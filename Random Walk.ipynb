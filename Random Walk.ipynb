{
 "cells": [
  {
   "cell_type": "code",
   "execution_count": 1,
   "metadata": {},
   "outputs": [
    {
     "name": "stdout",
     "output_type": "stream",
     "text": [
      "Populating the interactive namespace from numpy and matplotlib\n"
     ]
    }
   ],
   "source": [
    "import pandas as pd\n",
    "import numpy as np\n",
    "import matplotlib.pyplot as plt\n",
    "%pylab inline \n",
    "\n",
    "from src.model import RandomWalk\n",
    "from src.train import generate_training_sets"
   ]
  },
  {
   "cell_type": "markdown",
   "metadata": {},
   "source": [
    "## Figure 3\n",
    "\n",
    "We will recreate the diagram shown in Figure 3."
   ]
  },
  {
   "cell_type": "code",
   "execution_count": 2,
   "metadata": {},
   "outputs": [],
   "source": [
    "num_train_sets = 100\n",
    "num_sequences   = 10 # or episodes\n",
    "training_sets = generate_training_sets(num_sequences=num_sequences, num_train_sets=num_train_sets)"
   ]
  },
  {
   "cell_type": "code",
   "execution_count": 3,
   "metadata": {},
   "outputs": [
    {
     "name": "stdout",
     "output_type": "stream",
     "text": [
      "CPU times: user 6 µs, sys: 1 µs, total: 7 µs\n",
      "Wall time: 11.9 µs\n"
     ]
    }
   ],
   "source": [
    "%time\n",
    "dtype = np.float\n",
    "alphas  = np.array([0.005, 0.01, 0.015], dtype=dtype)\n",
    "lambdas = np.array([0.0, 0.1, 0.3, 0.5, 0.7, 0.9, 1.0], dtype=dtype) # given in figure 3 caption\n",
    "\n",
    "rw = RandomWalk(alphas, lambdas)\n",
    "\n",
    "results = rw.train_repeated(training_sets)\n"
   ]
  },
  {
   "cell_type": "code",
   "execution_count": 4,
   "metadata": {},
   "outputs": [
    {
     "data": {
      "text/html": [
       "<div>\n",
       "<style scoped>\n",
       "    .dataframe tbody tr th:only-of-type {\n",
       "        vertical-align: middle;\n",
       "    }\n",
       "\n",
       "    .dataframe tbody tr th {\n",
       "        vertical-align: top;\n",
       "    }\n",
       "\n",
       "    .dataframe thead th {\n",
       "        text-align: right;\n",
       "    }\n",
       "</style>\n",
       "<table border=\"1\" class=\"dataframe\">\n",
       "  <thead>\n",
       "    <tr style=\"text-align: right;\">\n",
       "      <th></th>\n",
       "      <th>rms</th>\n",
       "    </tr>\n",
       "    <tr>\n",
       "      <th>lambda</th>\n",
       "      <th></th>\n",
       "    </tr>\n",
       "  </thead>\n",
       "  <tbody>\n",
       "    <tr>\n",
       "      <th>0.0</th>\n",
       "      <td>0.105397</td>\n",
       "    </tr>\n",
       "    <tr>\n",
       "      <th>0.1</th>\n",
       "      <td>0.105140</td>\n",
       "    </tr>\n",
       "    <tr>\n",
       "      <th>0.3</th>\n",
       "      <td>0.105506</td>\n",
       "    </tr>\n",
       "    <tr>\n",
       "      <th>0.5</th>\n",
       "      <td>0.107528</td>\n",
       "    </tr>\n",
       "    <tr>\n",
       "      <th>0.7</th>\n",
       "      <td>0.113259</td>\n",
       "    </tr>\n",
       "  </tbody>\n",
       "</table>\n",
       "</div>"
      ],
      "text/plain": [
       "             rms\n",
       "lambda          \n",
       "0.0     0.105397\n",
       "0.1     0.105140\n",
       "0.3     0.105506\n",
       "0.5     0.107528\n",
       "0.7     0.113259"
      ]
     },
     "execution_count": 4,
     "metadata": {},
     "output_type": "execute_result"
    }
   ],
   "source": [
    "data = pd.DataFrame(results)\n",
    "\n",
    "data.columns = [\"lambda\", \"alpha\", \"rms\", \"rmsstd\"]\n",
    "\n",
    "data = data[data.groupby(['lambda'])['rms'].transform(min) == \\\n",
    "            data['rms']].set_index(keys=['lambda'])\n",
    "\n",
    "data = data.drop('alpha', 1)\n",
    "data = data.drop('rmsstd', 1)\n",
    "data.head()"
   ]
  },
  {
   "cell_type": "code",
   "execution_count": 5,
   "metadata": {},
   "outputs": [
    {
     "data": {
      "image/png": "[encoded data removed]",
      "text/plain": [
       "<Figure size 432x432 with 1 Axes>"
      ]
     },
     "metadata": {
      "needs_background": "light"
     },
     "output_type": "display_data"
    }
   ],
   "source": [
    "plt.figure(num=None, figsize=(6, 6), dpi=72)\n",
    "plt.xlabel(r\"$\\lambda$\", size=15)\n",
    "plt.text(.79, .17, \"Widrow-Hoff\", ha=\"center\", va=\"center\", rotation=0,size=15)\n",
    "plt.text(-.22, .185, \"ERROR\\nUSING\\nBEST α\",size=15)\n",
    "plt.plot(data,marker='o')\n",
    "plt.xticks([i * .1 for i in range(0, 11) if i % 2 == 0])\n",
    "plt.yticks([(i * .01) for i in range(10, 20) if i % 2 == 0])\n",
    "plt.savefig('plots/random_walk_fig3.png',dpi=72);"
   ]
  },
  {
   "cell_type": "markdown",
   "metadata": {},
   "source": [
    "## Figure 4"
   ]
  },
  {
   "cell_type": "code",
   "execution_count": 6,
   "metadata": {},
   "outputs": [],
   "source": [
    "num_train_sets = 100\n",
    "num_sequences   = 10 # or episodes\n",
    "training_sets = generate_training_sets(num_sequences=num_sequences, num_train_sets=num_train_sets)"
   ]
  },
  {
   "cell_type": "code",
   "execution_count": 7,
   "metadata": {},
   "outputs": [
    {
     "name": "stdout",
     "output_type": "stream",
     "text": [
      "{1.0: [], 0.0: [], 0.8: [], 0.3: []}\n"
     ]
    }
   ],
   "source": [
    "alphas = np.linspace(0,0.7,8)\n",
    "lambdas = np.array([1, 0, 0.8, 0.3], dtype=dtype) # given in figure 4 caption\n",
    "RMSEs = dict(zip(lambdas, [[] for i in range(len(lambdas))]))\n",
    "print(RMSEs)"
   ]
  },
  {
   "cell_type": "code",
   "execution_count": 8,
   "metadata": {},
   "outputs": [
    {
     "name": "stdout",
     "output_type": "stream",
     "text": [
      "CPU times: user 7 µs, sys: 1 µs, total: 8 µs\n",
      "Wall time: 42.9 µs\n"
     ]
    }
   ],
   "source": [
    "%time\n",
    "model = RandomWalk(alphas, lambdas)\n",
    "\n",
    "results = model.train_single(training_sets)"
   ]
  },
  {
   "cell_type": "code",
   "execution_count": 9,
   "metadata": {},
   "outputs": [
    {
     "name": "stdout",
     "output_type": "stream",
     "text": [
      "{0.0: [0.23570226039551584, 0.12971945449716002, 0.08604616866069804, 0.10916744443436757, 0.2669520306954715, 1.5295178842101873], 0.3: [0.23570226039551584, 0.11809821552553618, 0.08327799961385614, 0.10426316478902596, 0.15930843326511812, 0.29471884735171083], 0.8: [0.23570226039551584, 0.11635871616140375, 0.13563480700637384, 0.18759679833109097, 0.2589059910549501, 0.38895549031248033], 1.0: [0.23570226039551584, 0.19971765975467537, 0.3029745241037205, 0.4550879758911128, 0.7318127678335854, 1.406859110951981]}\n"
     ]
    }
   ],
   "source": [
    "data = pd.DataFrame(results)\n",
    "\n",
    "data.columns = [\"lambda\", \"alpha\", \"rms\", \"rmsstd\"]\n",
    "\n",
    "RMSEs = data.groupby('lambda')['rms'].apply(list).to_dict()\n",
    "# Truncate for pyplot\n",
    "for k,v in RMSEs.items():\n",
    "    v[:] = v[:6]\n",
    "    \n",
    "print(RMSEs)"
   ]
  },
  {
   "cell_type": "code",
   "execution_count": 10,
   "metadata": {},
   "outputs": [
    {
     "data": {
      "image/png": "[encoded data removed]",
      "text/plain": [
       "<Figure size 576x432 with 1 Axes>"
      ]
     },
     "metadata": {
      "needs_background": "light"
     },
     "output_type": "display_data"
    }
   ],
   "source": [
    "plt.figure(figsize=(8,6))\n",
    "for i in lambdas:\n",
    "    plt.plot(alphas[:6],RMSEs[i],'-o',label='λ = {}'.format(i))\n",
    "    if i == 1:\n",
    "        plt.annotate('λ = {} (Widrow-Hoff)'.format(i),(0.36,RMSEs[i][-1]+0.03))\n",
    "    else:    \n",
    "        plt.annotate('λ = {}'.format(i),(0.52,RMSEs[i][-1]))\n",
    "plt.xlim([-0.05,0.7])\n",
    "plt.ylim([-0.05,1.2])\n",
    "plt.xlabel('α',size=20)\n",
    "plt.legend(loc=2)\n",
    "\n",
    "plt.savefig('plots/random_walk_fig4.png',dpi=72);"
   ]
  },
  {
   "cell_type": "markdown",
   "metadata": {},
   "source": [
    "## Figure 5"
   ]
  },
  {
   "cell_type": "code",
   "execution_count": 11,
   "metadata": {
    "scrolled": true
   },
   "outputs": [
    {
     "name": "stdout",
     "output_type": "stream",
     "text": [
      "CPU times: user 5 µs, sys: 1e+03 ns, total: 6 µs\n",
      "Wall time: 11 µs\n"
     ]
    }
   ],
   "source": [
    "%time \n",
    "#alphas  = [0.05 * i for i in range(0,21)]\n",
    "lambdas = [0.05 * i for i in range(0, 21)]\n",
    "\n",
    "results = []\n",
    "\n",
    "rw = RandomWalk(alphas, lambdas)\n",
    "\n",
    "results = rw.train_single(training_sets)"
   ]
  },
  {
   "cell_type": "code",
   "execution_count": 19,
   "metadata": {},
   "outputs": [
    {
     "name": "stdout",
     "output_type": "stream",
     "text": [
      "441\n"
     ]
    },
    {
     "data": {
      "text/html": [
       "<div>\n",
       "<style scoped>\n",
       "    .dataframe tbody tr th:only-of-type {\n",
       "        vertical-align: middle;\n",
       "    }\n",
       "\n",
       "    .dataframe tbody tr th {\n",
       "        vertical-align: top;\n",
       "    }\n",
       "\n",
       "    .dataframe thead th {\n",
       "        text-align: right;\n",
       "    }\n",
       "</style>\n",
       "<table border=\"1\" class=\"dataframe\">\n",
       "  <thead>\n",
       "    <tr style=\"text-align: right;\">\n",
       "      <th></th>\n",
       "      <th>alpha</th>\n",
       "      <th>rms</th>\n",
       "      <th>rmsstd</th>\n",
       "    </tr>\n",
       "    <tr>\n",
       "      <th>lambda</th>\n",
       "      <th></th>\n",
       "      <th></th>\n",
       "      <th></th>\n",
       "    </tr>\n",
       "  </thead>\n",
       "  <tbody>\n",
       "    <tr>\n",
       "      <th>0.00</th>\n",
       "      <td>0.20</td>\n",
       "      <td>0.086046</td>\n",
       "      <td>0.023893</td>\n",
       "    </tr>\n",
       "    <tr>\n",
       "      <th>0.05</th>\n",
       "      <td>0.20</td>\n",
       "      <td>0.084833</td>\n",
       "      <td>0.024768</td>\n",
       "    </tr>\n",
       "    <tr>\n",
       "      <th>0.10</th>\n",
       "      <td>0.20</td>\n",
       "      <td>0.083902</td>\n",
       "      <td>0.025856</td>\n",
       "    </tr>\n",
       "    <tr>\n",
       "      <th>0.15</th>\n",
       "      <td>0.20</td>\n",
       "      <td>0.083257</td>\n",
       "      <td>0.027123</td>\n",
       "    </tr>\n",
       "    <tr>\n",
       "      <th>0.20</th>\n",
       "      <td>0.20</td>\n",
       "      <td>0.082914</td>\n",
       "      <td>0.028548</td>\n",
       "    </tr>\n",
       "    <tr>\n",
       "      <th>0.25</th>\n",
       "      <td>0.20</td>\n",
       "      <td>0.082907</td>\n",
       "      <td>0.030120</td>\n",
       "    </tr>\n",
       "    <tr>\n",
       "      <th>0.30</th>\n",
       "      <td>0.20</td>\n",
       "      <td>0.083278</td>\n",
       "      <td>0.031830</td>\n",
       "    </tr>\n",
       "    <tr>\n",
       "      <th>0.35</th>\n",
       "      <td>0.20</td>\n",
       "      <td>0.084087</td>\n",
       "      <td>0.033673</td>\n",
       "    </tr>\n",
       "    <tr>\n",
       "      <th>0.40</th>\n",
       "      <td>0.20</td>\n",
       "      <td>0.085407</td>\n",
       "      <td>0.035647</td>\n",
       "    </tr>\n",
       "    <tr>\n",
       "      <th>0.45</th>\n",
       "      <td>0.20</td>\n",
       "      <td>0.087333</td>\n",
       "      <td>0.037754</td>\n",
       "    </tr>\n",
       "    <tr>\n",
       "      <th>0.50</th>\n",
       "      <td>0.20</td>\n",
       "      <td>0.089979</td>\n",
       "      <td>0.040014</td>\n",
       "    </tr>\n",
       "    <tr>\n",
       "      <th>0.55</th>\n",
       "      <td>0.15</td>\n",
       "      <td>0.091765</td>\n",
       "      <td>0.031305</td>\n",
       "    </tr>\n",
       "    <tr>\n",
       "      <th>0.60</th>\n",
       "      <td>0.15</td>\n",
       "      <td>0.093672</td>\n",
       "      <td>0.034223</td>\n",
       "    </tr>\n",
       "    <tr>\n",
       "      <th>0.65</th>\n",
       "      <td>0.15</td>\n",
       "      <td>0.096677</td>\n",
       "      <td>0.037553</td>\n",
       "    </tr>\n",
       "    <tr>\n",
       "      <th>0.70</th>\n",
       "      <td>0.15</td>\n",
       "      <td>0.101174</td>\n",
       "      <td>0.041375</td>\n",
       "    </tr>\n",
       "    <tr>\n",
       "      <th>0.75</th>\n",
       "      <td>0.15</td>\n",
       "      <td>0.107739</td>\n",
       "      <td>0.045850</td>\n",
       "    </tr>\n",
       "    <tr>\n",
       "      <th>0.80</th>\n",
       "      <td>0.10</td>\n",
       "      <td>0.116359</td>\n",
       "      <td>0.034659</td>\n",
       "    </tr>\n",
       "    <tr>\n",
       "      <th>0.85</th>\n",
       "      <td>0.10</td>\n",
       "      <td>0.123103</td>\n",
       "      <td>0.041783</td>\n",
       "    </tr>\n",
       "    <tr>\n",
       "      <th>0.90</th>\n",
       "      <td>0.10</td>\n",
       "      <td>0.135001</td>\n",
       "      <td>0.051161</td>\n",
       "    </tr>\n",
       "    <tr>\n",
       "      <th>0.95</th>\n",
       "      <td>0.10</td>\n",
       "      <td>0.156943</td>\n",
       "      <td>0.063463</td>\n",
       "    </tr>\n",
       "    <tr>\n",
       "      <th>1.00</th>\n",
       "      <td>0.05</td>\n",
       "      <td>0.176610</td>\n",
       "      <td>0.051960</td>\n",
       "    </tr>\n",
       "  </tbody>\n",
       "</table>\n",
       "</div>"
      ],
      "text/plain": [
       "        alpha       rms    rmsstd\n",
       "lambda                           \n",
       "0.00     0.20  0.086046  0.023893\n",
       "0.05     0.20  0.084833  0.024768\n",
       "0.10     0.20  0.083902  0.025856\n",
       "0.15     0.20  0.083257  0.027123\n",
       "0.20     0.20  0.082914  0.028548\n",
       "0.25     0.20  0.082907  0.030120\n",
       "0.30     0.20  0.083278  0.031830\n",
       "0.35     0.20  0.084087  0.033673\n",
       "0.40     0.20  0.085407  0.035647\n",
       "0.45     0.20  0.087333  0.037754\n",
       "0.50     0.20  0.089979  0.040014\n",
       "0.55     0.15  0.091765  0.031305\n",
       "0.60     0.15  0.093672  0.034223\n",
       "0.65     0.15  0.096677  0.037553\n",
       "0.70     0.15  0.101174  0.041375\n",
       "0.75     0.15  0.107739  0.045850\n",
       "0.80     0.10  0.116359  0.034659\n",
       "0.85     0.10  0.123103  0.041783\n",
       "0.90     0.10  0.135001  0.051161\n",
       "0.95     0.10  0.156943  0.063463\n",
       "1.00     0.05  0.176610  0.051960"
      ]
     },
     "execution_count": 19,
     "metadata": {},
     "output_type": "execute_result"
    }
   ],
   "source": [
    "data = pd.DataFrame(results)\n",
    "print(len(data))\n",
    "\n",
    "data.columns = [\"lambda\", \"alpha\", \"rms\", \"rmsstd\"]\n",
    "\n",
    "data = data[data.groupby(['lambda'])['rms'].transform(min) == \\\n",
    "            data['rms']].set_index(keys=['lambda'])\n",
    "\n",
    "# data = data.drop('alpha', 1)\n",
    "# data = data.drop('rmsstd', 1)\n",
    "data"
   ]
  },
  {
   "cell_type": "code",
   "execution_count": 17,
   "metadata": {},
   "outputs": [
    {
     "data": {
      "image/png": "[encoded data removed]",
      "text/plain": [
       "<Figure size 432x432 with 1 Axes>"
      ]
     },
     "metadata": {
      "needs_background": "light"
     },
     "output_type": "display_data"
    }
   ],
   "source": [
    "plt.figure(num=None, figsize=(6, 6), dpi=72)\n",
    "plt.plot(data, marker='o') \n",
    "# plt.ylabel(\"RMS\")\n",
    "plt.text(.79, .175, \"Widrow-Hoff\", ha=\"center\", va=\"center\", rotation=0,size=15)\n",
    "plt.text(-.22,.185, \"ERROR\\nUSING\\nBEST α\",size=12)\n",
    "plt.xlabel(r\"$\\lambda$\", size=15)\n",
    "plt.savefig('plots/random_walk_fig5.png',dpi=72)"
   ]
  },
  {
   "cell_type": "code",
   "execution_count": null,
   "metadata": {},
   "outputs": [],
   "source": []
  }
 ],
 "metadata": {
  "kernelspec": {
   "display_name": "Python 3",
   "language": "python",
   "name": "python3"
  },
  "language_info": {
   "codemirror_mode": {
    "name": "ipython",
    "version": 3
   },
   "file_extension": ".py",
   "mimetype": "text/x-python",
   "name": "python",
   "nbconvert_exporter": "python",
   "pygments_lexer": "ipython3",
   "version": "3.6.0"
  }
 },
 "nbformat": 4,
 "nbformat_minor": 2
}
