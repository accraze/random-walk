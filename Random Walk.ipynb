{
 "cells": [
  {
   "cell_type": "code",
   "execution_count": 2,
   "metadata": {},
   "outputs": [
    {
     "name": "stdout",
     "output_type": "stream",
     "text": [
      "Populating the interactive namespace from numpy and matplotlib\n"
     ]
    }
   ],
   "source": [
    "import pandas as pd\n",
    "import numpy as np\n",
    "import matplotlib.pyplot as plt\n",
    "%pylab inline \n",
    "\n",
    "from src.model import RandomWalk\n",
    "from src.train import generate_training_sets"
   ]
  },
  {
   "cell_type": "markdown",
   "metadata": {},
   "source": [
    "## Figure 3\n",
    "\n",
    "We will recreate the diagram shown in Figure 3."
   ]
  },
  {
   "cell_type": "code",
   "execution_count": 3,
   "metadata": {},
   "outputs": [],
   "source": [
    "num_train_sets = 100\n",
    "num_sequences   = 10 # or episodes\n",
    "training_sets = generate_training_sets(num_sequences=num_sequences, num_train_sets=num_train_sets)"
   ]
  },
  {
   "cell_type": "code",
   "execution_count": 4,
   "metadata": {},
   "outputs": [],
   "source": [
    "alphas  = np.array([0.005, 0.01, 0.015], dtype=dtype)\n",
    "lambdas = np.array([0.0, 0.1, 0.3, 0.5, 0.7, 0.9, 1.0], dtype=dtype) # given in figure 3 caption\n",
    "\n",
    "rw = RandomWalk(alphas, lambdas)\n",
    "\n",
    "results = rw.train(training_sets)\n"
   ]
  },
  {
   "cell_type": "code",
   "execution_count": 5,
   "metadata": {},
   "outputs": [
    {
     "data": {
      "text/html": [
       "<div>\n",
       "<style scoped>\n",
       "    .dataframe tbody tr th:only-of-type {\n",
       "        vertical-align: middle;\n",
       "    }\n",
       "\n",
       "    .dataframe tbody tr th {\n",
       "        vertical-align: top;\n",
       "    }\n",
       "\n",
       "    .dataframe thead th {\n",
       "        text-align: right;\n",
       "    }\n",
       "</style>\n",
       "<table border=\"1\" class=\"dataframe\">\n",
       "  <thead>\n",
       "    <tr style=\"text-align: right;\">\n",
       "      <th></th>\n",
       "      <th>rms</th>\n",
       "    </tr>\n",
       "    <tr>\n",
       "      <th>lambda</th>\n",
       "      <th></th>\n",
       "    </tr>\n",
       "  </thead>\n",
       "  <tbody>\n",
       "    <tr>\n",
       "      <th>0.0</th>\n",
       "      <td>0.124542</td>\n",
       "    </tr>\n",
       "    <tr>\n",
       "      <th>0.1</th>\n",
       "      <td>0.124687</td>\n",
       "    </tr>\n",
       "    <tr>\n",
       "      <th>0.3</th>\n",
       "      <td>0.125357</td>\n",
       "    </tr>\n",
       "    <tr>\n",
       "      <th>0.5</th>\n",
       "      <td>0.127064</td>\n",
       "    </tr>\n",
       "    <tr>\n",
       "      <th>0.7</th>\n",
       "      <td>0.131351</td>\n",
       "    </tr>\n",
       "  </tbody>\n",
       "</table>\n",
       "</div>"
      ],
      "text/plain": [
       "             rms\n",
       "lambda          \n",
       "0.0     0.124542\n",
       "0.1     0.124687\n",
       "0.3     0.125357\n",
       "0.5     0.127064\n",
       "0.7     0.131351"
      ]
     },
     "execution_count": 5,
     "metadata": {},
     "output_type": "execute_result"
    }
   ],
   "source": [
    "data = pd.DataFrame(results)\n",
    "\n",
    "data.columns = [\"lambda\", \"alpha\", \"rms\", \"rmsstd\"]\n",
    "\n",
    "data = data[data.groupby(['lambda'])['rms'].transform(min) == \\\n",
    "            data['rms']].set_index(keys=['lambda'])\n",
    "\n",
    "data = data.drop('alpha', 1)\n",
    "data = data.drop('rmsstd', 1)\n",
    "data.head()"
   ]
  },
  {
   "cell_type": "code",
   "execution_count": 24,
   "metadata": {},
   "outputs": [
    {
     "data": {
      "image/png": "[encoded data removed]",
      "text/plain": [
       "<Figure size 432x432 with 1 Axes>"
      ]
     },
     "metadata": {
      "needs_background": "light"
     },
     "output_type": "display_data"
    }
   ],
   "source": [
    "plt.figure(num=None, figsize=(6, 6), dpi=72)\n",
    "plt.xlabel(r\"$\\lambda$\", size=15)\n",
    "# plt.title(\"Figure 3\")\n",
    "plt.text(.79, .17, \"Widrow-Hoff\", ha=\"center\", va=\"center\", rotation=0,size=15)\n",
    "plt.text(-.22, .185, \"ERROR\\nUSING\\nBEST α\",size=15)\n",
    "plt.plot(data,marker='o')\n",
    "plt.xticks([i * .1 for i in range(0, 11) if i % 2 == 0])\n",
    "plt.yticks([(i * .01) for i in range(10, 20) if i % 2 == 0])\n",
    "plt.savefig('plots/random_walk_fig3.png',dpi=72);"
   ]
  },
  {
   "cell_type": "markdown",
   "metadata": {},
   "source": [
    "## Figure 4"
   ]
  },
  {
   "cell_type": "code",
   "execution_count": 25,
   "metadata": {},
   "outputs": [],
   "source": [
    "lambdas_ = [1,0,0.8,0.3]\n",
    "alphas = np.linspace(0,0.7,20)\n",
    "RMSEs = {1:[],0:[],0.8:[],0.3:[]}"
   ]
  },
  {
   "cell_type": "code",
   "execution_count": null,
   "metadata": {},
   "outputs": [],
   "source": []
  }
 ],
 "metadata": {
  "kernelspec": {
   "display_name": "Python 3",
   "language": "python",
   "name": "python3"
  },
  "language_info": {
   "codemirror_mode": {
    "name": "ipython",
    "version": 3
   },
   "file_extension": ".py",
   "mimetype": "text/x-python",
   "name": "python",
   "nbconvert_exporter": "python",
   "pygments_lexer": "ipython3",
   "version": "3.6.0"
  }
 },
 "nbformat": 4,
 "nbformat_minor": 2
}
