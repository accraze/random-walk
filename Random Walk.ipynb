{
 "cells": [
  {
   "cell_type": "code",
   "execution_count": 2,
   "metadata": {},
   "outputs": [
    {
     "name": "stdout",
     "output_type": "stream",
     "text": [
      "Populating the interactive namespace from numpy and matplotlib\n"
     ]
    }
   ],
   "source": [
    "import pandas as pd\n",
    "import numpy as np\n",
    "import matplotlib.pyplot as plt\n",
    "%pylab inline \n",
    "\n",
    "from src.model import RandomWalk\n",
    "from src.train import generate_training_sets"
   ]
  },
  {
   "cell_type": "markdown",
   "metadata": {},
   "source": [
    "## Figure 3\n",
    "\n",
    "We will recreate the diagram shown in Figure 3."
   ]
  },
  {
   "cell_type": "code",
   "execution_count": 36,
   "metadata": {},
   "outputs": [],
   "source": [
    "num_train_sets = 100\n",
    "num_sequences   = 10 # or episodes\n",
    "training_sets = generate_training_sets(num_sequences=num_sequences, num_train_sets=num_train_sets)"
   ]
  },
  {
   "cell_type": "code",
   "execution_count": 4,
   "metadata": {},
   "outputs": [
    {
     "name": "stdout",
     "output_type": "stream",
     "text": [
      "CPU times: user 4 µs, sys: 0 ns, total: 4 µs\n",
      "Wall time: 9.06 µs\n"
     ]
    }
   ],
   "source": [
    "%time\n",
    "alphas  = np.array([0.005, 0.01, 0.015], dtype=dtype)\n",
    "lambdas = np.array([0.0, 0.1, 0.3, 0.5, 0.7, 0.9, 1.0], dtype=dtype) # given in figure 3 caption\n",
    "\n",
    "rw = RandomWalk(alphas, lambdas)\n",
    "\n",
    "results = rw.train_repeated(training_sets)\n"
   ]
  },
  {
   "cell_type": "code",
   "execution_count": 5,
   "metadata": {},
   "outputs": [
    {
     "data": {
      "text/html": [
       "<div>\n",
       "<style scoped>\n",
       "    .dataframe tbody tr th:only-of-type {\n",
       "        vertical-align: middle;\n",
       "    }\n",
       "\n",
       "    .dataframe tbody tr th {\n",
       "        vertical-align: top;\n",
       "    }\n",
       "\n",
       "    .dataframe thead th {\n",
       "        text-align: right;\n",
       "    }\n",
       "</style>\n",
       "<table border=\"1\" class=\"dataframe\">\n",
       "  <thead>\n",
       "    <tr style=\"text-align: right;\">\n",
       "      <th></th>\n",
       "      <th>rms</th>\n",
       "    </tr>\n",
       "    <tr>\n",
       "      <th>lambda</th>\n",
       "      <th></th>\n",
       "    </tr>\n",
       "  </thead>\n",
       "  <tbody>\n",
       "    <tr>\n",
       "      <th>0.0</th>\n",
       "      <td>0.124052</td>\n",
       "    </tr>\n",
       "    <tr>\n",
       "      <th>0.1</th>\n",
       "      <td>0.124503</td>\n",
       "    </tr>\n",
       "    <tr>\n",
       "      <th>0.3</th>\n",
       "      <td>0.125732</td>\n",
       "    </tr>\n",
       "    <tr>\n",
       "      <th>0.5</th>\n",
       "      <td>0.127451</td>\n",
       "    </tr>\n",
       "    <tr>\n",
       "      <th>0.7</th>\n",
       "      <td>0.130812</td>\n",
       "    </tr>\n",
       "  </tbody>\n",
       "</table>\n",
       "</div>"
      ],
      "text/plain": [
       "             rms\n",
       "lambda          \n",
       "0.0     0.124052\n",
       "0.1     0.124503\n",
       "0.3     0.125732\n",
       "0.5     0.127451\n",
       "0.7     0.130812"
      ]
     },
     "execution_count": 5,
     "metadata": {},
     "output_type": "execute_result"
    }
   ],
   "source": [
    "data = pd.DataFrame(results)\n",
    "\n",
    "data.columns = [\"lambda\", \"alpha\", \"rms\", \"rmsstd\"]\n",
    "\n",
    "data = data[data.groupby(['lambda'])['rms'].transform(min) == \\\n",
    "            data['rms']].set_index(keys=['lambda'])\n",
    "\n",
    "data = data.drop('alpha', 1)\n",
    "data = data.drop('rmsstd', 1)\n",
    "data.head()"
   ]
  },
  {
   "cell_type": "code",
   "execution_count": 6,
   "metadata": {},
   "outputs": [
    {
     "data": {
      "image/png": "[encoded data removed]",
      "text/plain": [
       "<Figure size 432x432 with 1 Axes>"
      ]
     },
     "metadata": {
      "needs_background": "light"
     },
     "output_type": "display_data"
    }
   ],
   "source": [
    "plt.figure(num=None, figsize=(6, 6), dpi=72)\n",
    "plt.xlabel(r\"$\\lambda$\", size=15)\n",
    "plt.text(.79, .17, \"Widrow-Hoff\", ha=\"center\", va=\"center\", rotation=0,size=15)\n",
    "plt.text(-.22, .185, \"ERROR\\nUSING\\nBEST α\",size=15)\n",
    "plt.plot(data,marker='o')\n",
    "plt.xticks([i * .1 for i in range(0, 11) if i % 2 == 0])\n",
    "plt.yticks([(i * .01) for i in range(10, 20) if i % 2 == 0])\n",
    "plt.savefig('plots/random_walk_fig3.png',dpi=72);"
   ]
  },
  {
   "cell_type": "code",
   "execution_count": 51,
   "metadata": {},
   "outputs": [
    {
     "name": "stdout",
     "output_type": "stream",
     "text": [
      "{1: [], 0: [], 0.8: [], 0.3: []}\n"
     ]
    }
   ],
   "source": [
    "alphas = np.linspace(0,0.7,8)\n",
    "lambdas = np.array([1, 0, 0.8, 0.3], dtype=dtype) # given in figure 4 caption\n",
    "RMSEs = dict(zip(lambdas, [[] for i in range(len(lambdas))]))\n",
    "print(RMSEs)\n"
   ]
  },
  {
   "cell_type": "markdown",
   "metadata": {},
   "source": [
    "## Figure 4"
   ]
  },
  {
   "cell_type": "code",
   "execution_count": 103,
   "metadata": {},
   "outputs": [],
   "source": [
    "num_train_sets = 100\n",
    "num_sequences   = 10 # or episodes\n",
    "training_sets = generate_training_sets(num_sequences=num_sequences, num_train_sets=num_train_sets)"
   ]
  },
  {
   "cell_type": "code",
   "execution_count": 104,
   "metadata": {},
   "outputs": [
    {
     "name": "stdout",
     "output_type": "stream",
     "text": [
      "CPU times: user 3 µs, sys: 1 µs, total: 4 µs\n",
      "Wall time: 8.82 µs\n"
     ]
    }
   ],
   "source": [
    "%time\n",
    "rw = RandomWalk(alphas, lambdas)\n",
    "\n",
    "results = rw.train_single(training_sets)"
   ]
  },
  {
   "cell_type": "code",
   "execution_count": 107,
   "metadata": {},
   "outputs": [
    {
     "name": "stdout",
     "output_type": "stream",
     "text": [
      "{0.0: [0.23570226039551584, 0.1305562399958405, 0.09013996979194673, 0.1125905357736215, 0.2564505664351185, 1.0351929098774604], 0.3: [0.23570226039551584, 0.1200836219417912, 0.089703031340493, 0.11200176102180436, 0.15897567357147813, 0.30228829629382514], 0.8: [0.23570226039551584, 0.12217833073658067, 0.14348185095736493, 0.19376887500483708, 0.2540136900908314, 0.3890050042319874], 1.0: [0.23570226039551584, 0.20662123834093019, 0.3217814224402582, 0.4810259299430593, 0.7337145898961005, 1.1087101855767185]}\n"
     ]
    }
   ],
   "source": [
    "data = pd.DataFrame(results)\n",
    "\n",
    "data.columns = [\"lambda\", \"alpha\", \"rms\", \"rmsstd\"]\n",
    "\n",
    "# data = data[data.groupby(['lambda'])['rms'].transform(min) == \\\n",
    "#             data['rms']].set_index(keys=['lambda'])\n",
    "\n",
    "#data.head()\n",
    "\n",
    "RMSEs = data.groupby('lambda')['rms'].apply(list).to_dict()\n",
    "\n",
    "data = data.drop('alpha', 1)\n",
    "\n",
    "data = data.drop('rmsstd', 1)\n",
    "\n",
    "\n",
    "for k,v in RMSEs.items():\n",
    "    v[:] = v[:6]\n",
    "    \n",
    "print(RMSEs)"
   ]
  },
  {
   "cell_type": "code",
   "execution_count": 134,
   "metadata": {},
   "outputs": [
    {
     "data": {
      "image/png": "[encoded data removed]",
      "text/plain": [
       "<Figure size 576x432 with 1 Axes>"
      ]
     },
     "metadata": {
      "needs_background": "light"
     },
     "output_type": "display_data"
    }
   ],
   "source": [
    "plt.figure(figsize=(8,6))\n",
    "for i in lambdas:\n",
    "    plt.plot(alphas[:6],RMSEs[i],'-o',label='λ = {}'.format(i))\n",
    "    if i == 1:\n",
    "        plt.annotate('λ = {} (Widrow-Hoff)'.format(i),(0.36,RMSEs[i][-1]+0.03))\n",
    "    else:    \n",
    "        plt.annotate('λ = {}'.format(i),(0.52,RMSEs[i][-1]))\n",
    "plt.xlim([-0.05,0.7])\n",
    "plt.ylim([-0.05,1.2])\n",
    "plt.xlabel('α',size=20)\n",
    "plt.legend(loc=2)\n",
    "\n",
    "plt.savefig('plots/random_walk_fig4.png',dpi=72);"
   ]
  },
  {
   "cell_type": "markdown",
   "metadata": {},
   "source": [
    "## Figure 5"
   ]
  },
  {
   "cell_type": "code",
   "execution_count": 30,
   "metadata": {
    "scrolled": true
   },
   "outputs": [
    {
     "name": "stdout",
     "output_type": "stream",
     "text": [
      "CPU times: user 4 µs, sys: 1 µs, total: 5 µs\n",
      "Wall time: 29.3 µs\n"
     ]
    }
   ],
   "source": [
    "%time \n",
    "alphas  = [0.05 * i for i in range(0,21)]\n",
    "lambdas = [0.05 * i for i in range(0, 21)]\n",
    "\n",
    "results = []\n",
    "\n",
    "rw = RandomWalk(alphas, lambdas)\n",
    "\n",
    "results = rw.train_single(training_sets)"
   ]
  },
  {
   "cell_type": "code",
   "execution_count": 31,
   "metadata": {},
   "outputs": [
    {
     "name": "stdout",
     "output_type": "stream",
     "text": [
      "441\n"
     ]
    },
    {
     "data": {
      "text/html": [
       "<div>\n",
       "<style scoped>\n",
       "    .dataframe tbody tr th:only-of-type {\n",
       "        vertical-align: middle;\n",
       "    }\n",
       "\n",
       "    .dataframe tbody tr th {\n",
       "        vertical-align: top;\n",
       "    }\n",
       "\n",
       "    .dataframe thead th {\n",
       "        text-align: right;\n",
       "    }\n",
       "</style>\n",
       "<table border=\"1\" class=\"dataframe\">\n",
       "  <thead>\n",
       "    <tr style=\"text-align: right;\">\n",
       "      <th></th>\n",
       "      <th>rms</th>\n",
       "    </tr>\n",
       "    <tr>\n",
       "      <th>lambda</th>\n",
       "      <th></th>\n",
       "    </tr>\n",
       "  </thead>\n",
       "  <tbody>\n",
       "    <tr>\n",
       "      <th>0.00</th>\n",
       "      <td>0.093423</td>\n",
       "    </tr>\n",
       "    <tr>\n",
       "      <th>0.05</th>\n",
       "      <td>0.092486</td>\n",
       "    </tr>\n",
       "    <tr>\n",
       "      <th>0.10</th>\n",
       "      <td>0.091848</td>\n",
       "    </tr>\n",
       "    <tr>\n",
       "      <th>0.15</th>\n",
       "      <td>0.091526</td>\n",
       "    </tr>\n",
       "    <tr>\n",
       "      <th>0.20</th>\n",
       "      <td>0.091550</td>\n",
       "    </tr>\n",
       "  </tbody>\n",
       "</table>\n",
       "</div>"
      ],
      "text/plain": [
       "             rms\n",
       "lambda          \n",
       "0.00    0.093423\n",
       "0.05    0.092486\n",
       "0.10    0.091848\n",
       "0.15    0.091526\n",
       "0.20    0.091550"
      ]
     },
     "execution_count": 31,
     "metadata": {},
     "output_type": "execute_result"
    }
   ],
   "source": [
    "data = pd.DataFrame(results)\n",
    "print(len(data))\n",
    "\n",
    "data.columns = [\"lambda\", \"alpha\", \"rms\", \"rmsstd\"]\n",
    "\n",
    "data = data[data.groupby(['lambda'])['rms'].transform(min) == \\\n",
    "            data['rms']].set_index(keys=['lambda'])\n",
    "\n",
    "data = data.drop('alpha', 1)\n",
    "data = data.drop('rmsstd', 1)\n",
    "data.head()"
   ]
  },
  {
   "cell_type": "code",
   "execution_count": 40,
   "metadata": {},
   "outputs": [
    {
     "data": {
      "image/png": "[encoded data removed]",
      "text/plain": [
       "<Figure size 432x432 with 1 Axes>"
      ]
     },
     "metadata": {
      "needs_background": "light"
     },
     "output_type": "display_data"
    }
   ],
   "source": [
    "plt.figure(num=None, figsize=(6, 6), dpi=72)\n",
    "plt.plot(data, marker='o') \n",
    "# plt.ylabel(\"RMS\")\n",
    "plt.text(.79, .185, \"Widrow-Hoff\", ha=\"center\", va=\"center\", rotation=0,size=15)\n",
    "plt.text(-.22,.185, \"ERROR\\nUSING\\nBEST α\",size=12)\n",
    "plt.xlabel(r\"$\\lambda$\", size=15)\n",
    "plt.savefig('plots/random_walk_fig5.png',dpi=72)"
   ]
  },
  {
   "cell_type": "code",
   "execution_count": null,
   "metadata": {},
   "outputs": [],
   "source": []
  }
 ],
 "metadata": {
  "kernelspec": {
   "display_name": "Python 3",
   "language": "python",
   "name": "python3"
  },
  "language_info": {
   "codemirror_mode": {
    "name": "ipython",
    "version": 3
   },
   "file_extension": ".py",
   "mimetype": "text/x-python",
   "name": "python",
   "nbconvert_exporter": "python",
   "pygments_lexer": "ipython3",
   "version": "3.6.0"
  }
 },
 "nbformat": 4,
 "nbformat_minor": 2
}
